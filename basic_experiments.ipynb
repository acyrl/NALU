{
 "cells": [
  {
   "cell_type": "markdown",
   "metadata": {},
   "source": [
    "# Neural Arithmetic Logic Unit\n",
    "\n",
    "This notebook contains basic experiments with the NAC and NALU activation units. We attempt to reproduce some of the results found in [arXiv:1808.00508](https://arxiv.org/abs/1808.00508)."
   ]
  },
  {
   "cell_type": "code",
   "execution_count": 1,
   "metadata": {},
   "outputs": [
    {
     "name": "stderr",
     "output_type": "stream",
     "text": [
      "C:\\Users\\acyrl\\Anaconda3\\lib\\site-packages\\h5py\\__init__.py:36: FutureWarning: Conversion of the second argument of issubdtype from `float` to `np.floating` is deprecated. In future, it will be treated as `np.float64 == np.dtype(float).type`.\n",
      "  from ._conv import register_converters as _register_converters\n",
      "Using TensorFlow backend.\n"
     ]
    }
   ],
   "source": [
    "import keras as k\n",
    "from keras.models import *\n",
    "import keras.backend as K"
   ]
  },
  {
   "cell_type": "code",
   "execution_count": 2,
   "metadata": {},
   "outputs": [],
   "source": [
    "import nalu.GenData as gd"
   ]
  },
  {
   "cell_type": "code",
   "execution_count": 3,
   "metadata": {},
   "outputs": [],
   "source": [
    "from nalu.NALU import NALU\n",
    "from nalu.NAC import NAC"
   ]
  },
  {
   "cell_type": "code",
   "execution_count": 4,
   "metadata": {},
   "outputs": [],
   "source": [
    "def pred_close(y_true, y_pred):\n",
    "    return K.abs(y_true - y_pred) < 1e-4"
   ]
  },
  {
   "cell_type": "markdown",
   "metadata": {},
   "source": []
  },
  {
   "cell_type": "markdown",
   "metadata": {},
   "source": [
    "## Idendity\n",
    "\n",
    "### NAC\n"
   ]
  },
  {
   "cell_type": "code",
   "execution_count": 43,
   "metadata": {},
   "outputs": [],
   "source": [
    "_, Y = gd.gd_paper(size=100000)"
   ]
  },
  {
   "cell_type": "code",
   "execution_count": 46,
   "metadata": {},
   "outputs": [
    {
     "name": "stdout",
     "output_type": "stream",
     "text": [
      "Epoch 1/10\n",
      "100000/100000 [==============================] - 7s 67us/step - loss: 919.9096 - pred_close: 0.5885\n",
      "Epoch 2/10\n",
      "100000/100000 [==============================] - 6s 64us/step - loss: 3.5726e-10 - pred_close: 1.0000\n",
      "Epoch 3/10\n",
      "100000/100000 [==============================] - 6s 64us/step - loss: 3.5726e-10 - pred_close: 1.0000\n",
      "Epoch 4/10\n",
      "100000/100000 [==============================] - 6s 63us/step - loss: 3.5726e-10 - pred_close: 1.0000\n",
      "Epoch 5/10\n",
      "100000/100000 [==============================] - 6s 63us/step - loss: 2.1185e-11 - pred_close: 1.0000\n",
      "Epoch 6/10\n",
      "100000/100000 [==============================] - 6s 64us/step - loss: 0.0000e+00 - pred_close: 1.0000\n",
      "Epoch 7/10\n",
      "100000/100000 [==============================] - 6s 63us/step - loss: 0.0000e+00 - pred_close: 1.0000\n",
      "Epoch 8/10\n",
      "100000/100000 [==============================] - 6s 64us/step - loss: 0.0000e+00 - pred_close: 1.0000\n",
      "Epoch 9/10\n",
      "100000/100000 [==============================] - 6s 64us/step - loss: 0.0000e+00 - pred_close: 1.0000\n",
      "Epoch 10/10\n",
      "100000/100000 [==============================] - 6s 64us/step - loss: 0.0000e+00 - pred_close: 1.0000\n"
     ]
    },
    {
     "data": {
      "text/plain": [
       "<keras.callbacks.History at 0x1481b08ac88>"
      ]
     },
     "execution_count": 46,
     "metadata": {},
     "output_type": "execute_result"
    }
   ],
   "source": [
    "x = Input((1,)) # n is the dimension of the data, (n, N)\n",
    "y = NAC(1)(x) # number of units, but let's test\n",
    "m = Model(x, y)\n",
    "m.compile(k.optimizers.RMSprop(lr=0.01), \"mse\", metrics=[pred_close])\n",
    "m.fit(Y, Y, batch_size=20, epochs=10)"
   ]
  },
  {
   "cell_type": "code",
   "execution_count": 54,
   "metadata": {},
   "outputs": [
    {
     "name": "stdout",
     "output_type": "stream",
     "text": [
      "50000/50000 [==============================] - 1s 17us/step\n"
     ]
    },
    {
     "data": {
      "text/plain": [
       "[0.0, 1.0]"
      ]
     },
     "execution_count": 54,
     "metadata": {},
     "output_type": "execute_result"
    }
   ],
   "source": [
    "_, Yext = gd.gd_uniform(500000,550000, size=50000)\n",
    "m.evaluate(Yext, Yext)"
   ]
  },
  {
   "cell_type": "code",
   "execution_count": 55,
   "metadata": {},
   "outputs": [
    {
     "name": "stdout",
     "output_type": "stream",
     "text": [
      "Epoch 1/10\n",
      "100000/100000 [==============================] - 9s 86us/step - loss: 2240.6077 - pred_close: 0.5737\n",
      "Epoch 2/10\n",
      "100000/100000 [==============================] - 8s 84us/step - loss: 3.5726e-10 - pred_close: 1.0000\n",
      "Epoch 3/10\n",
      "100000/100000 [==============================] - 8s 82us/step - loss: 3.5726e-10 - pred_close: 1.0000\n",
      "Epoch 4/10\n",
      "100000/100000 [==============================] - 8s 83us/step - loss: 3.5726e-10 - pred_close: 1.0000\n",
      "Epoch 5/10\n",
      "100000/100000 [==============================] - 8s 84us/step - loss: 2.6859e-11 - pred_close: 1.0000\n",
      "Epoch 6/10\n",
      "100000/100000 [==============================] - 8s 83us/step - loss: 5.7103e-18 - pred_close: 1.0000\n",
      "Epoch 7/10\n",
      "100000/100000 [==============================] - 8s 84us/step - loss: 5.7103e-18 - pred_close: 1.0000\n",
      "Epoch 8/10\n",
      "100000/100000 [==============================] - 8s 84us/step - loss: 5.7103e-18 - pred_close: 1.0000\n",
      "Epoch 9/10\n",
      "100000/100000 [==============================] - 9s 86us/step - loss: 5.7103e-18 - pred_close: 1.0000\n",
      "Epoch 10/10\n",
      "100000/100000 [==============================] - 9s 86us/step - loss: 5.7103e-18 - pred_close: 1.0000\n"
     ]
    },
    {
     "data": {
      "text/plain": [
       "<keras.callbacks.History at 0x1481b05e860>"
      ]
     },
     "execution_count": 55,
     "metadata": {},
     "output_type": "execute_result"
    }
   ],
   "source": [
    "x = Input((1,)) # n is the dimension of the data, (n, N)\n",
    "y = NALU(1)(x) # number of units, but let's test\n",
    "m = Model(x, y)\n",
    "m.compile(k.optimizers.RMSprop(lr=0.01), \"mse\", metrics=[pred_close])\n",
    "m.fit(Y, Y, batch_size=20, epochs=10)"
   ]
  },
  {
   "cell_type": "code",
   "execution_count": 57,
   "metadata": {},
   "outputs": [
    {
     "name": "stdout",
     "output_type": "stream",
     "text": [
      "50000/50000 [==============================] - 1s 21us/step\n"
     ]
    },
    {
     "data": {
      "text/plain": [
       "[<tf.Variable 'nalu_7/W_hat:0' shape=(1, 1) dtype=float32_ref>,\n",
       " <tf.Variable 'nalu_7/M_hat:0' shape=(1, 1) dtype=float32_ref>,\n",
       " <tf.Variable 'nalu_7/G:0' shape=(1, 1) dtype=float32_ref>]"
      ]
     },
     "execution_count": 57,
     "metadata": {},
     "output_type": "execute_result"
    }
   ],
   "source": [
    "_, Yext = gd.gd_uniform(500000,550000, size=50000)\n",
    "m.evaluate(Yext, Yext)\n"
   ]
  },
  {
   "cell_type": "code",
   "execution_count": 64,
   "metadata": {},
   "outputs": [
    {
     "data": {
      "text/plain": [
       "[array([[9.012543]], dtype=float32),\n",
       " array([[16.635576]], dtype=float32),\n",
       " array([[0.8285337]], dtype=float32)]"
      ]
     },
     "execution_count": 64,
     "metadata": {},
     "output_type": "execute_result"
    }
   ],
   "source": [
    "m.get_weights()"
   ]
  },
  {
   "cell_type": "code",
   "execution_count": null,
   "metadata": {},
   "outputs": [],
   "source": []
  },
  {
   "cell_type": "markdown",
   "metadata": {},
   "source": [
    "## Addition\n",
    "\n",
    "### NALU/paper"
   ]
  },
  {
   "cell_type": "code",
   "execution_count": 33,
   "metadata": {},
   "outputs": [],
   "source": [
    "X, Y = gd.gd_paper(size=100000)"
   ]
  },
  {
   "cell_type": "code",
   "execution_count": 36,
   "metadata": {},
   "outputs": [
    {
     "name": "stdout",
     "output_type": "stream",
     "text": [
      "Epoch 1/50\n",
      "100000/100000 [==============================] - 8s 85us/step - loss: 1052.5409 - pred_close: 0.5276\n",
      "Epoch 2/50\n",
      "100000/100000 [==============================] - 8s 83us/step - loss: 5.9485e-07 - pred_close: 0.9992\n",
      "Epoch 3/50\n",
      "100000/100000 [==============================] - 9s 88us/step - loss: 3.0850e-07 - pred_close: 0.9995\n",
      "Epoch 4/50\n",
      "100000/100000 [==============================] - 8s 83us/step - loss: 2.0361e-07 - pred_close: 0.9996\n",
      "Epoch 5/50\n",
      "100000/100000 [==============================] - 9s 85us/step - loss: 1.5973e-07 - pred_close: 0.9997\n",
      "Epoch 6/50\n",
      "100000/100000 [==============================] - 9s 85us/step - loss: 1.3526e-07 - pred_close: 0.9997\n",
      "Epoch 7/50\n",
      "100000/100000 [==============================] - 8s 81us/step - loss: 1.1671e-07 - pred_close: 0.9997\n",
      "Epoch 8/50\n",
      "100000/100000 [==============================] - 8s 84us/step - loss: 1.0152e-07 - pred_close: 0.9997\n",
      "Epoch 9/50\n",
      "100000/100000 [==============================] - 8s 83us/step - loss: 9.0443e-08 - pred_close: 0.9997\n",
      "Epoch 10/50\n",
      "100000/100000 [==============================] - 8s 81us/step - loss: 8.1060e-08 - pred_close: 0.9998\n",
      "Epoch 11/50\n",
      "100000/100000 [==============================] - 8s 80us/step - loss: 7.3434e-08 - pred_close: 0.9998\n",
      "Epoch 12/50\n",
      "100000/100000 [==============================] - 9s 87us/step - loss: 6.5701e-08 - pred_close: 0.9998\n",
      "Epoch 13/50\n",
      "100000/100000 [==============================] - 8s 82us/step - loss: 6.1075e-08 - pred_close: 0.9998\n",
      "Epoch 14/50\n",
      "100000/100000 [==============================] - 8s 83us/step - loss: 5.7139e-08 - pred_close: 0.9998\n",
      "Epoch 15/50\n",
      "100000/100000 [==============================] - 8s 82us/step - loss: 5.2289e-08 - pred_close: 0.9998\n",
      "Epoch 16/50\n",
      "100000/100000 [==============================] - 8s 80us/step - loss: 4.9340e-08 - pred_close: 0.9998\n",
      "Epoch 17/50\n",
      "100000/100000 [==============================] - 9s 86us/step - loss: 4.7128e-08 - pred_close: 0.9998\n",
      "Epoch 18/50\n",
      "100000/100000 [==============================] - 9s 90us/step - loss: 4.4108e-08 - pred_close: 0.9998\n",
      "Epoch 19/50\n",
      "100000/100000 [==============================] - 9s 86us/step - loss: 4.2126e-08 - pred_close: 0.9998\n",
      "Epoch 20/50\n",
      "100000/100000 [==============================] - 8s 81us/step - loss: 3.9834e-08 - pred_close: 0.9998\n",
      "Epoch 21/50\n",
      "100000/100000 [==============================] - 9s 91us/step - loss: 3.7576e-08 - pred_close: 0.9998\n",
      "Epoch 22/50\n",
      "100000/100000 [==============================] - 9s 88us/step - loss: 3.5810e-08 - pred_close: 0.9999\n",
      "Epoch 23/50\n",
      "100000/100000 [==============================] - 8s 82us/step - loss: 3.3713e-08 - pred_close: 0.9999\n",
      "Epoch 24/50\n",
      "100000/100000 [==============================] - 8s 82us/step - loss: 3.2360e-08 - pred_close: 0.9999\n",
      "Epoch 25/50\n",
      "100000/100000 [==============================] - 8s 83us/step - loss: 3.0681e-08 - pred_close: 0.9999\n",
      "Epoch 26/50\n",
      "100000/100000 [==============================] - 8s 83us/step - loss: 2.9487e-08 - pred_close: 0.9999\n",
      "Epoch 27/50\n",
      "100000/100000 [==============================] - 8s 81us/step - loss: 2.8141e-08 - pred_close: 0.9999\n",
      "Epoch 28/50\n",
      "100000/100000 [==============================] - 8s 80us/step - loss: 2.6989e-08 - pred_close: 0.9999\n",
      "Epoch 29/50\n",
      "100000/100000 [==============================] - 8s 81us/step - loss: 2.5696e-08 - pred_close: 0.9999\n",
      "Epoch 30/50\n",
      "100000/100000 [==============================] - 8s 81us/step - loss: 2.4783e-08 - pred_close: 0.9999\n",
      "Epoch 31/50\n",
      "100000/100000 [==============================] - 8s 81us/step - loss: 2.3542e-08 - pred_close: 0.9999\n",
      "Epoch 32/50\n",
      "100000/100000 [==============================] - 8s 82us/step - loss: 2.2790e-08 - pred_close: 0.9999\n",
      "Epoch 33/50\n",
      "100000/100000 [==============================] - 8s 81us/step - loss: 2.1686e-08 - pred_close: 0.9999\n",
      "Epoch 34/50\n",
      "100000/100000 [==============================] - 8s 78us/step - loss: 2.0842e-08 - pred_close: 0.9999\n",
      "Epoch 35/50\n",
      "100000/100000 [==============================] - 8s 78us/step - loss: 1.9991e-08 - pred_close: 0.9999\n",
      "Epoch 36/50\n",
      "100000/100000 [==============================] - 8s 77us/step - loss: 1.9253e-08 - pred_close: 0.9999\n",
      "Epoch 37/50\n",
      "100000/100000 [==============================] - 8s 77us/step - loss: 1.8762e-08 - pred_close: 0.9999\n",
      "Epoch 38/50\n",
      "100000/100000 [==============================] - 8s 77us/step - loss: 1.8019e-08 - pred_close: 0.9999\n",
      "Epoch 39/50\n",
      "100000/100000 [==============================] - 8s 78us/step - loss: 1.7257e-08 - pred_close: 0.9999\n",
      "Epoch 40/50\n",
      "100000/100000 [==============================] - 8s 77us/step - loss: 1.6637e-08 - pred_close: 0.9999\n",
      "Epoch 41/50\n",
      "100000/100000 [==============================] - 8s 78us/step - loss: 1.6066e-08 - pred_close: 0.9999\n",
      "Epoch 42/50\n",
      "100000/100000 [==============================] - 8s 78us/step - loss: 1.5626e-08 - pred_close: 0.9999\n",
      "Epoch 43/50\n",
      "100000/100000 [==============================] - 8s 78us/step - loss: 1.5101e-08 - pred_close: 0.9999\n",
      "Epoch 44/50\n",
      "100000/100000 [==============================] - 8s 78us/step - loss: 1.4558e-08 - pred_close: 0.9999\n",
      "Epoch 45/50\n",
      "100000/100000 [==============================] - 8s 78us/step - loss: 1.4034e-08 - pred_close: 0.9999\n",
      "Epoch 46/50\n",
      "100000/100000 [==============================] - 8s 78us/step - loss: 1.3482e-08 - pred_close: 0.9999\n",
      "Epoch 47/50\n",
      "100000/100000 [==============================] - 8s 78us/step - loss: 1.3130e-08 - pred_close: 0.9999\n",
      "Epoch 48/50\n",
      "100000/100000 [==============================] - 8s 78us/step - loss: 1.2742e-08 - pred_close: 0.9999\n",
      "Epoch 49/50\n",
      "100000/100000 [==============================] - 8s 78us/step - loss: 1.2318e-08 - pred_close: 0.9999\n",
      "Epoch 50/50\n",
      "100000/100000 [==============================] - 8s 80us/step - loss: 1.1928e-08 - pred_close: 0.9999\n"
     ]
    },
    {
     "data": {
      "text/plain": [
       "<keras.callbacks.History at 0x147df463128>"
      ]
     },
     "execution_count": 36,
     "metadata": {},
     "output_type": "execute_result"
    }
   ],
   "source": [
    "x = Input((2,)) # n is the dimension of the data, (n, N)\n",
    "y = NALU(1)(x) # number of units, but let's test\n",
    "m = Model(x, y)\n",
    "m.compile(k.optimizers.RMSprop(lr=0.01), \"mse\", metrics=[pred_close])\n",
    "m.fit(X, Y, batch_size=20, epochs=50)"
   ]
  },
  {
   "cell_type": "markdown",
   "metadata": {},
   "source": [
    "#### Interpolation\n",
    "\n",
    "It looks like there could be some overfitting to the training set. Do we need to train on uniform?"
   ]
  },
  {
   "cell_type": "code",
   "execution_count": 37,
   "metadata": {},
   "outputs": [
    {
     "name": "stdout",
     "output_type": "stream",
     "text": [
      "50000/50000 [==============================] - 1s 20us/step\n"
     ]
    },
    {
     "data": {
      "text/plain": [
       "[4.6140787588626605e-08, 0.99982]"
      ]
     },
     "execution_count": 37,
     "metadata": {},
     "output_type": "execute_result"
    }
   ],
   "source": [
    "Xint, Yint = gd.gd_paper(size=50000)\n",
    "m.evaluate(Xint, Yint)"
   ]
  },
  {
   "cell_type": "code",
   "execution_count": 38,
   "metadata": {},
   "outputs": [
    {
     "name": "stdout",
     "output_type": "stream",
     "text": [
      "50000/50000 [==============================] - 1s 19us/step\n"
     ]
    },
    {
     "data": {
      "text/plain": [
       "[2.1089257575710006e-06, 0.97478]"
      ]
     },
     "execution_count": 38,
     "metadata": {},
     "output_type": "execute_result"
    }
   ],
   "source": [
    "Xint, Yint = gd.gd_uniform(size=50000)\n",
    "m.evaluate(Xint, Yint)"
   ]
  },
  {
   "cell_type": "markdown",
   "metadata": {},
   "source": [
    "#### Extrapolation"
   ]
  },
  {
   "cell_type": "code",
   "execution_count": 39,
   "metadata": {},
   "outputs": [
    {
     "name": "stdout",
     "output_type": "stream",
     "text": [
      "50000/50000 [==============================] - 1s 19us/step\n"
     ]
    },
    {
     "data": {
      "text/plain": [
       "[2.13256411180609e-06, 0.97538]"
      ]
     },
     "execution_count": 39,
     "metadata": {},
     "output_type": "execute_result"
    }
   ],
   "source": [
    "Xext, Yext = gd.gd_uniform(size=50000)\n",
    "m.evaluate(Xext, Yext)"
   ]
  },
  {
   "cell_type": "code",
   "execution_count": 41,
   "metadata": {},
   "outputs": [
    {
     "name": "stdout",
     "output_type": "stream",
     "text": [
      "50000/50000 [==============================] - 1s 20us/step\n"
     ]
    },
    {
     "data": {
      "text/plain": [
       "[7.498779296875e-06, 0.75252]"
      ]
     },
     "execution_count": 41,
     "metadata": {},
     "output_type": "execute_result"
    }
   ],
   "source": [
    "Xext, Yext = gd.gd_uniform(30000, 35000, size=50000)\n",
    "m.evaluate(Xext, Yext)"
   ]
  },
  {
   "cell_type": "code",
   "execution_count": null,
   "metadata": {},
   "outputs": [],
   "source": []
  },
  {
   "cell_type": "code",
   "execution_count": null,
   "metadata": {},
   "outputs": [],
   "source": []
  }
 ],
 "metadata": {
  "kernelspec": {
   "display_name": "Python 3",
   "language": "python",
   "name": "python3"
  },
  "language_info": {
   "codemirror_mode": {
    "name": "ipython",
    "version": 3
   },
   "file_extension": ".py",
   "mimetype": "text/x-python",
   "name": "python",
   "nbconvert_exporter": "python",
   "pygments_lexer": "ipython3",
   "version": "3.6.5"
  }
 },
 "nbformat": 4,
 "nbformat_minor": 2
}
