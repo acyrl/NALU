{
 "cells": [
  {
   "cell_type": "markdown",
   "metadata": {},
   "source": [
    "# Neural Arithmetic Logic Unit\n",
    "\n",
    "This notebook contains basic experiments with the NAC and NALU activation units. We attempt to reproduce results relating to basic arithmetic functions found in [arXiv:1808.00508](https://arxiv.org/abs/1808.00508)."
   ]
  },
  {
   "cell_type": "code",
   "execution_count": 2,
   "metadata": {},
   "outputs": [
    {
     "name": "stderr",
     "output_type": "stream",
     "text": [
      "C:\\Users\\acyrl\\Anaconda3\\lib\\site-packages\\h5py\\__init__.py:36: FutureWarning: Conversion of the second argument of issubdtype from `float` to `np.floating` is deprecated. In future, it will be treated as `np.float64 == np.dtype(float).type`.\n",
      "  from ._conv import register_converters as _register_converters\n",
      "Using TensorFlow backend.\n"
     ]
    }
   ],
   "source": [
    "import keras as k\n",
    "from keras.models import *\n",
    "import keras.backend as K"
   ]
  },
  {
   "cell_type": "code",
   "execution_count": 3,
   "metadata": {},
   "outputs": [],
   "source": [
    "import nalu.GenData as gd"
   ]
  },
  {
   "cell_type": "code",
   "execution_count": 4,
   "metadata": {},
   "outputs": [],
   "source": [
    "from nalu.NALU import NALU\n",
    "from nalu.NAC import NAC"
   ]
  },
  {
   "cell_type": "code",
   "execution_count": 5,
   "metadata": {},
   "outputs": [],
   "source": [
    "def pred_close(y_true, y_pred):\n",
    "    return K.abs(y_true - y_pred) < 1e-4"
   ]
  },
  {
   "cell_type": "markdown",
   "metadata": {},
   "source": [
    "## Identity\n",
    "\n",
    "### NAC\n",
    "\n",
    "\n",
    "We generate data in the way described in the paper. See gd.gd_paper for more details"
   ]
  },
  {
   "cell_type": "code",
   "execution_count": 6,
   "metadata": {},
   "outputs": [],
   "source": [
    "_, Y = gd.gd_paper(size=100000)"
   ]
  },
  {
   "cell_type": "code",
   "execution_count": 12,
   "metadata": {},
   "outputs": [
    {
     "name": "stdout",
     "output_type": "stream",
     "text": [
      "Epoch 1/10\n",
      "100000/100000 [==============================] - 7s 67us/step - loss: 1529.0961 - pred_close: 0.5688\n",
      "Epoch 2/10\n",
      "100000/100000 [==============================] - 6s 63us/step - loss: 5.1226e-10 - pred_close: 1.0000\n",
      "Epoch 3/10\n",
      "100000/100000 [==============================] - 7s 65us/step - loss: 4.8631e-10 - pred_close: 1.0000\n",
      "Epoch 4/10\n",
      "100000/100000 [==============================] - 7s 67us/step - loss: 0.0000e+00 - pred_close: 1.0000\n",
      "Epoch 5/10\n",
      "100000/100000 [==============================] - 7s 67us/step - loss: 0.0000e+00 - pred_close: 1.0000\n",
      "Epoch 6/10\n",
      "100000/100000 [==============================] - 7s 68us/step - loss: 0.0000e+00 - pred_close: 1.0000\n",
      "Epoch 7/10\n",
      "100000/100000 [==============================] - 7s 70us/step - loss: 0.0000e+00 - pred_close: 1.0000\n",
      "Epoch 8/10\n",
      "100000/100000 [==============================] - 7s 66us/step - loss: 0.0000e+00 - pred_close: 1.0000\n",
      "Epoch 9/10\n",
      "100000/100000 [==============================] - 7s 68us/step - loss: 0.0000e+00 - pred_close: 1.0000\n",
      "Epoch 10/10\n",
      "100000/100000 [==============================] - 6s 64us/step - loss: 0.0000e+00 - pred_close: 1.0000\n"
     ]
    },
    {
     "data": {
      "text/plain": [
       "<keras.callbacks.History at 0x14b98303f60>"
      ]
     },
     "execution_count": 12,
     "metadata": {},
     "output_type": "execute_result"
    }
   ],
   "source": [
    "x = Input((1,)) \n",
    "y = NAC(1)(x)\n",
    "nac_identity_model = Model(x, y)\n",
    "nac_identity_model.compile(k.optimizers.RMSprop(lr=0.01), \"mse\", metrics=[pred_close])\n",
    "nac_identity_model.fit(Y, Y, batch_size=20, epochs=10, verbose=1)"
   ]
  },
  {
   "cell_type": "code",
   "execution_count": 13,
   "metadata": {},
   "outputs": [],
   "source": [
    "# Saving the models \n",
    "nac_identity_model.save(\"saved_models/nac_id.h5\")"
   ]
  },
  {
   "cell_type": "code",
   "execution_count": 16,
   "metadata": {},
   "outputs": [],
   "source": [
    "nac_identity_model = load_model(\"saved_models/nac_id.h5\", custom_objects={'NAC': NAC, 'pred_close': pred_close})"
   ]
  },
  {
   "cell_type": "code",
   "execution_count": 17,
   "metadata": {},
   "outputs": [
    {
     "name": "stdout",
     "output_type": "stream",
     "text": [
      "50000/50000 [==============================] - 1s 17us/step\n"
     ]
    },
    {
     "data": {
      "text/plain": [
       "[0.0, 1.0]"
      ]
     },
     "execution_count": 17,
     "metadata": {},
     "output_type": "execute_result"
    }
   ],
   "source": [
    "_, Yext = gd.gd_uniform(20,25, size=50000)\n",
    "nac_identity_model.evaluate(Yext, Yext)"
   ]
  },
  {
   "cell_type": "code",
   "execution_count": 18,
   "metadata": {},
   "outputs": [
    {
     "data": {
      "text/plain": [
       "[array([[9.012988]], dtype=float32), array([[16.635536]], dtype=float32)]"
      ]
     },
     "execution_count": 18,
     "metadata": {},
     "output_type": "execute_result"
    }
   ],
   "source": [
    "nac_identity_model.get_weights()"
   ]
  },
  {
   "cell_type": "markdown",
   "metadata": {},
   "source": [
    "### NALU"
   ]
  },
  {
   "cell_type": "code",
   "execution_count": 21,
   "metadata": {},
   "outputs": [
    {
     "name": "stdout",
     "output_type": "stream",
     "text": [
      "Epoch 1/10\n",
      "100000/100000 [==============================] - 8s 78us/step - loss: 95.6523 - pred_close: 0.6285\n",
      "Epoch 2/10\n",
      "100000/100000 [==============================] - 9s 87us/step - loss: 5.1226e-10 - pred_close: 1.0000\n",
      "Epoch 3/10\n",
      "100000/100000 [==============================] - 10s 102us/step - loss: 4.5456e-10 - pred_close: 1.0000\n",
      "Epoch 4/10\n",
      "100000/100000 [==============================] - 9s 93us/step - loss: 6.6350e-19 - pred_close: 1.0000\n",
      "Epoch 5/10\n",
      "100000/100000 [==============================] - 8s 85us/step - loss: 6.6350e-19 - pred_close: 1.0000\n",
      "Epoch 6/10\n",
      "100000/100000 [==============================] - 8s 84us/step - loss: 6.6350e-19 - pred_close: 1.0000\n",
      "Epoch 7/10\n",
      "100000/100000 [==============================] - 8s 78us/step - loss: 6.6350e-19 - pred_close: 1.0000\n",
      "Epoch 8/10\n",
      "100000/100000 [==============================] - 8s 79us/step - loss: 6.6350e-19 - pred_close: 1.0000\n",
      "Epoch 9/10\n",
      "100000/100000 [==============================] - 8s 77us/step - loss: 6.6350e-19 - pred_close: 1.0000\n",
      "Epoch 10/10\n",
      "100000/100000 [==============================] - 8s 79us/step - loss: 6.6350e-19 - pred_close: 1.0000\n"
     ]
    },
    {
     "data": {
      "text/plain": [
       "<keras.callbacks.History at 0x14b9c91f1d0>"
      ]
     },
     "execution_count": 21,
     "metadata": {},
     "output_type": "execute_result"
    }
   ],
   "source": [
    "x = Input((1,)) # n is the dimension of the data, (n, N)\n",
    "y = NALU(1)(x) # number of units, but let's test\n",
    "nalu_identity_model = Model(x, y)\n",
    "nalu_identity_model.compile(k.optimizers.RMSprop(lr=0.01), \"mse\", metrics=[pred_close])\n",
    "nalu_identity_model.fit(Y, Y, batch_size=20, epochs=10)"
   ]
  },
  {
   "cell_type": "code",
   "execution_count": 22,
   "metadata": {},
   "outputs": [],
   "source": [
    "# Saving the models \n",
    "nalu_identity_model.save(\"saved_models/nalu_id.h5\")"
   ]
  },
  {
   "cell_type": "code",
   "execution_count": 23,
   "metadata": {},
   "outputs": [],
   "source": [
    "nalu_identity_model = load_model(\"saved_models/nalu_id.h5\", custom_objects={'NALU': NALU, 'pred_close': pred_close})"
   ]
  },
  {
   "cell_type": "code",
   "execution_count": 24,
   "metadata": {},
   "outputs": [
    {
     "name": "stdout",
     "output_type": "stream",
     "text": [
      "50000/50000 [==============================] - 1s 22us/step\n"
     ]
    },
    {
     "data": {
      "text/plain": [
       "[0.0, 1.0]"
      ]
     },
     "execution_count": 24,
     "metadata": {},
     "output_type": "execute_result"
    }
   ],
   "source": [
    "_, Yext = gd.gd_uniform(20000,20010, size=50000)\n",
    "nalu_identity_model.evaluate(Yext, Yext)\n"
   ]
  },
  {
   "cell_type": "code",
   "execution_count": 25,
   "metadata": {},
   "outputs": [
    {
     "data": {
      "text/plain": [
       "[array([[9.010931]], dtype=float32),\n",
       " array([[16.635546]], dtype=float32),\n",
       " array([[1.6428401]], dtype=float32)]"
      ]
     },
     "execution_count": 25,
     "metadata": {},
     "output_type": "execute_result"
    }
   ],
   "source": [
    "nalu_identity_model.get_weights()"
   ]
  },
  {
   "cell_type": "markdown",
   "metadata": {},
   "source": [
    "\n",
    "\n",
    "No surprise that both of these units can learn the identity function."
   ]
  },
  {
   "cell_type": "markdown",
   "metadata": {},
   "source": [
    "## Addition\n",
    "\n",
    "We now turn our attention to additive operation. \n",
    "\n",
    "We will study its error as \n",
    "### NAC"
   ]
  },
  {
   "cell_type": "code",
   "execution_count": 26,
   "metadata": {},
   "outputs": [],
   "source": [
    "X, Y = gd.gd_paper(size=100000)"
   ]
  },
  {
   "cell_type": "code",
   "execution_count": 27,
   "metadata": {},
   "outputs": [
    {
     "name": "stdout",
     "output_type": "stream",
     "text": [
      "Epoch 1/50\n",
      "100000/100000 [==============================] - 8s 80us/step - loss: 763.3561 - pred_close: 0.5503\n",
      "Epoch 2/50\n",
      "100000/100000 [==============================] - 8s 79us/step - loss: 9.4764e-07 - pred_close: 0.9992\n",
      "Epoch 3/50\n",
      "100000/100000 [==============================] - 8s 78us/step - loss: 4.3202e-07 - pred_close: 0.9995\n",
      "Epoch 4/50\n",
      "100000/100000 [==============================] - 9s 87us/step - loss: 2.8388e-07 - pred_close: 0.9996\n",
      "Epoch 5/50\n",
      "100000/100000 [==============================] - 9s 88us/step - loss: 2.0580e-07 - pred_close: 0.9997\n",
      "Epoch 6/50\n",
      "100000/100000 [==============================] - 8s 79us/step - loss: 1.5773e-07 - pred_close: 0.9997\n",
      "Epoch 7/50\n",
      "100000/100000 [==============================] - 8s 79us/step - loss: 1.3001e-07 - pred_close: 0.9997\n",
      "Epoch 8/50\n",
      "100000/100000 [==============================] - 8s 78us/step - loss: 1.1126e-07 - pred_close: 0.9998\n",
      "Epoch 9/50\n",
      "100000/100000 [==============================] - 8s 79us/step - loss: 9.8315e-08 - pred_close: 0.9998\n",
      "Epoch 10/50\n",
      "100000/100000 [==============================] - 8s 79us/step - loss: 8.7217e-08 - pred_close: 0.9998\n",
      "Epoch 11/50\n",
      "100000/100000 [==============================] - 8s 78us/step - loss: 7.9158e-08 - pred_close: 0.9998\n",
      "Epoch 12/50\n",
      "100000/100000 [==============================] - 8s 76us/step - loss: 7.2803e-08 - pred_close: 0.9998\n",
      "Epoch 13/50\n",
      "100000/100000 [==============================] - 9s 89us/step - loss: 6.7311e-08 - pred_close: 0.9998\n",
      "Epoch 14/50\n",
      "100000/100000 [==============================] - 9s 92us/step - loss: 6.3537e-08 - pred_close: 0.9998\n",
      "Epoch 15/50\n",
      "100000/100000 [==============================] - 9s 93us/step - loss: 5.8628e-08 - pred_close: 0.9998\n",
      "Epoch 16/50\n",
      "100000/100000 [==============================] - 9s 92us/step - loss: 5.5527e-08 - pred_close: 0.9998\n",
      "Epoch 17/50\n",
      "100000/100000 [==============================] - 9s 92us/step - loss: 5.2692e-08 - pred_close: 0.9998\n",
      "Epoch 18/50\n",
      "100000/100000 [==============================] - 9s 88us/step - loss: 4.9974e-08 - pred_close: 0.9999\n",
      "Epoch 19/50\n",
      "100000/100000 [==============================] - 9s 93us/step - loss: 4.7351e-08 - pred_close: 0.9999\n",
      "Epoch 20/50\n",
      "100000/100000 [==============================] - 8s 83us/step - loss: 4.5412e-08 - pred_close: 0.9999\n",
      "Epoch 21/50\n",
      "100000/100000 [==============================] - 9s 89us/step - loss: 4.3840e-08 - pred_close: 0.9999\n",
      "Epoch 22/50\n",
      "100000/100000 [==============================] - 9s 86us/step - loss: 4.1903e-08 - pred_close: 0.9999\n",
      "Epoch 23/50\n",
      "100000/100000 [==============================] - 9s 86us/step - loss: 4.0334e-08 - pred_close: 0.9999\n",
      "Epoch 24/50\n",
      "100000/100000 [==============================] - 8s 80us/step - loss: 3.8277e-08 - pred_close: 0.9999\n",
      "Epoch 25/50\n",
      "100000/100000 [==============================] - 8s 81us/step - loss: 3.7367e-08 - pred_close: 0.9999\n",
      "Epoch 26/50\n",
      "100000/100000 [==============================] - 8s 80us/step - loss: 3.5864e-08 - pred_close: 0.9999\n",
      "Epoch 27/50\n",
      "100000/100000 [==============================] - 9s 91us/step - loss: 3.4841e-08 - pred_close: 0.9999\n",
      "Epoch 28/50\n",
      "100000/100000 [==============================] - 9s 89us/step - loss: 3.3242e-08 - pred_close: 0.9999\n",
      "Epoch 29/50\n",
      "100000/100000 [==============================] - 10s 96us/step - loss: 3.2348e-08 - pred_close: 0.9999\n",
      "Epoch 30/50\n",
      "100000/100000 [==============================] - 9s 89us/step - loss: 3.1102e-08 - pred_close: 0.9999\n",
      "Epoch 31/50\n",
      "100000/100000 [==============================] - 9s 86us/step - loss: 3.0296e-08 - pred_close: 0.9999\n",
      "Epoch 32/50\n",
      "100000/100000 [==============================] - 9s 89us/step - loss: 2.9410e-08 - pred_close: 0.9999\n",
      "Epoch 33/50\n",
      "100000/100000 [==============================] - 9s 93us/step - loss: 2.8232e-08 - pred_close: 0.9999\n",
      "Epoch 34/50\n",
      "100000/100000 [==============================] - 8s 84us/step - loss: 2.7378e-08 - pred_close: 0.9999\n",
      "Epoch 35/50\n",
      "100000/100000 [==============================] - 9s 86us/step - loss: 2.6816e-08 - pred_close: 0.9999\n",
      "Epoch 36/50\n",
      "100000/100000 [==============================] - 10s 95us/step - loss: 2.6130e-08 - pred_close: 0.9999\n",
      "Epoch 37/50\n",
      "100000/100000 [==============================] - 9s 95us/step - loss: 2.5269e-08 - pred_close: 0.9999\n",
      "Epoch 38/50\n",
      "100000/100000 [==============================] - 9s 88us/step - loss: 2.4839e-08 - pred_close: 0.9999\n",
      "Epoch 39/50\n",
      "100000/100000 [==============================] - 9s 85us/step - loss: 2.3881e-08 - pred_close: 0.9999\n",
      "Epoch 40/50\n",
      "100000/100000 [==============================] - 9s 87us/step - loss: 2.3396e-08 - pred_close: 0.9999\n",
      "Epoch 41/50\n",
      "100000/100000 [==============================] - 8s 84us/step - loss: 2.2723e-08 - pred_close: 0.9999\n",
      "Epoch 42/50\n",
      "100000/100000 [==============================] - 10s 97us/step - loss: 2.2291e-08 - pred_close: 0.9999\n",
      "Epoch 43/50\n",
      "100000/100000 [==============================] - 10s 98us/step - loss: 2.1748e-08 - pred_close: 0.9999\n",
      "Epoch 44/50\n",
      "100000/100000 [==============================] - 9s 93us/step - loss: 2.1188e-08 - pred_close: 0.9999\n",
      "Epoch 45/50\n",
      "100000/100000 [==============================] - 10s 98us/step - loss: 2.0821e-08 - pred_close: 0.9999\n",
      "Epoch 46/50\n",
      "100000/100000 [==============================] - 9s 90us/step - loss: 2.0169e-08 - pred_close: 0.9999\n",
      "Epoch 47/50\n",
      "100000/100000 [==============================] - 9s 86us/step - loss: 1.9701e-08 - pred_close: 0.9999\n",
      "Epoch 48/50\n",
      "100000/100000 [==============================] - 9s 91us/step - loss: 1.9304e-08 - pred_close: 0.9999\n",
      "Epoch 49/50\n",
      "100000/100000 [==============================] - 9s 95us/step - loss: 1.8847e-08 - pred_close: 0.9999\n",
      "Epoch 50/50\n",
      "100000/100000 [==============================] - 9s 87us/step - loss: 1.8574e-08 - pred_close: 0.9999\n"
     ]
    },
    {
     "data": {
      "text/plain": [
       "<keras.callbacks.History at 0x14b9ddf24a8>"
      ]
     },
     "execution_count": 27,
     "metadata": {},
     "output_type": "execute_result"
    }
   ],
   "source": [
    "x = Input((2,)) # n is the dimension of the data, (n, N)\n",
    "y = NALU(1)(x) # number of units, but let's test\n",
    "\n",
    "nac_add_model = Model(x, y)\n",
    "nac_add_model.compile(k.optimizers.RMSprop(lr=0.01), \"mse\", metrics=[pred_close])\n",
    "nac_add_model.fit(X, Y, batch_size=20, epochs=50)"
   ]
  },
  {
   "cell_type": "markdown",
   "metadata": {},
   "source": [
    "#### Interpolation:\n"
   ]
  },
  {
   "cell_type": "code",
   "execution_count": 28,
   "metadata": {},
   "outputs": [],
   "source": [
    "nac_add_model.save(\"saved_models/nac_add.h5\")"
   ]
  },
  {
   "cell_type": "code",
   "execution_count": 29,
   "metadata": {},
   "outputs": [],
   "source": [
    "nac_add_model = load_model(\"saved_models/nac_add.h5\", custom_objects={'NALU': NALU, 'pred_close': pred_close})"
   ]
  },
  {
   "cell_type": "code",
   "execution_count": 35,
   "metadata": {},
   "outputs": [
    {
     "name": "stdout",
     "output_type": "stream",
     "text": [
      "50000/50000 [==============================] - 1s 22us/step\n"
     ]
    },
    {
     "data": {
      "text/plain": [
       "[4.357155878210506e-08, 0.99992]"
      ]
     },
     "execution_count": 35,
     "metadata": {},
     "output_type": "execute_result"
    }
   ],
   "source": [
    "nac_add_Xint, nac_add_Yint = gd.gd_paper(size=50000)\n",
    "nac_add_model.evaluate(nac_add_Xint, nac_add_Yint)"
   ]
  },
  {
   "cell_type": "code",
   "execution_count": 43,
   "metadata": {},
   "outputs": [
    {
     "name": "stdout",
     "output_type": "stream",
     "text": [
      "50000/50000 [==============================] - 1s 21us/step\n"
     ]
    },
    {
     "data": {
      "text/plain": [
       "[1.9352313728192172e-06, 0.9777]"
      ]
     },
     "execution_count": 43,
     "metadata": {},
     "output_type": "execute_result"
    }
   ],
   "source": [
    "nac_add_Xint_unif, nac_add_Yint_unif = gd.gd_uniform(size=50000)\n",
    "nac_add_model.evaluate(nac_add_Xint_unif, nac_add_Yint_unif)"
   ]
  },
  {
   "cell_type": "markdown",
   "metadata": {},
   "source": [
    "There seems to be some overfitting to the way the data is generated. We should investigate its distribution."
   ]
  },
  {
   "cell_type": "markdown",
   "metadata": {},
   "source": [
    "#### Extrapolation\n",
    "\n",
    "Here we will looks at outside the range of where the model was trained. Moreover, we will look at the behaviour of the error as we extrapolate further from the training range."
   ]
  },
  {
   "cell_type": "code",
   "execution_count": 44,
   "metadata": {},
   "outputs": [
    {
     "name": "stdout",
     "output_type": "stream",
     "text": [
      "50000/50000 [==============================] - 1s 21us/step\n"
     ]
    },
    {
     "data": {
      "text/plain": [
       "[1.962004098459147e-09, 0.90506]"
      ]
     },
     "execution_count": 44,
     "metadata": {},
     "output_type": "execute_result"
    }
   ],
   "source": [
    "nac_add_Xext, nac_add_Yext = gd.gd_paper(10, 20, size=50000)\n",
    "nac_add_model.evaluate(nac_add_Xext, nac_add_Yext)"
   ]
  },
  {
   "cell_type": "code",
   "execution_count": 45,
   "metadata": {},
   "outputs": [
    {
     "name": "stdout",
     "output_type": "stream",
     "text": [
      "50000/50000 [==============================] - 1s 22us/step\n"
     ]
    },
    {
     "data": {
      "text/plain": [
       "[5.7732686400413516e-11, 1.0]"
      ]
     },
     "execution_count": 45,
     "metadata": {},
     "output_type": "execute_result"
    }
   ],
   "source": [
    "nac_add_Xext_unif, nac_add_Yext_unif = gd.gd_uniform(100, 101, size=50000)\n",
    "nac_add_model.evaluate(nac_add_Xext_unif, nac_add_Yext_unif)"
   ]
  },
  {
   "cell_type": "markdown",
   "metadata": {},
   "source": [
    "We can investigate what happens we extrapolate. We will look at ever increasing of intervals of size."
   ]
  },
  {
   "cell_type": "code",
   "execution_count": 48,
   "metadata": {},
   "outputs": [
    {
     "name": "stdout",
     "output_type": "stream",
     "text": [
      "50000/50000 [==============================] - 1s 21us/step\n"
     ]
    },
    {
     "data": {
      "text/plain": [
       "[9.352874755859375e-07, 0.75482]"
      ]
     },
     "execution_count": 48,
     "metadata": {},
     "output_type": "execute_result"
    }
   ],
   "source": [
    "nac_add_Xext_unif, nac_add_Yext_unif = gd.gd_uniform(10000, 10005, size=50000)\n",
    "nac_add_model.evaluate(nac_add_Xext_unif, nac_add_Yext_unif)"
   ]
  },
  {
   "cell_type": "code",
   "execution_count": 49,
   "metadata": {},
   "outputs": [],
   "source": [
    "import pandas as pd\n",
    "plot_data = pd.DataFrame(data={'index': [], 'loss':[], 'pred_close':[]})"
   ]
  },
  {
   "cell_type": "code",
   "execution_count": 50,
   "metadata": {},
   "outputs": [
    {
     "name": "stdout",
     "output_type": "stream",
     "text": [
      "iteration 20/500\n",
      "iteration 40/500\n",
      "iteration 60/500\n",
      "iteration 80/500\n",
      "iteration 100/500\n",
      "iteration 120/500\n",
      "iteration 140/500\n",
      "iteration 160/500\n",
      "iteration 180/500\n",
      "iteration 200/500\n",
      "iteration 220/500\n",
      "iteration 240/500\n",
      "iteration 260/500\n",
      "iteration 280/500\n",
      "iteration 300/500\n",
      "iteration 320/500\n",
      "iteration 340/500\n",
      "iteration 360/500\n",
      "iteration 380/500\n",
      "iteration 400/500\n",
      "iteration 420/500\n",
      "iteration 440/500\n",
      "iteration 460/500\n",
      "iteration 480/500\n"
     ]
    }
   ],
   "source": [
    "N = 500\n",
    "for i in range(1, N):\n",
    "    if not i % 20:\n",
    "        print(\"iteration {0}/{1}\".format(i, N))\n",
    "    Xtest, Ytest = gd.gd_uniform(i*10, (i+1)*10-1, size=5000)\n",
    "    nac_loss, nac_pred_close = nac_add_model.evaluate(Xtest, Ytest, verbose=0)\n",
    "    plot_data = pd.concat([plot_data, pd.DataFrame({'index':[i*10], 'loss':[nac_loss], 'pred_close':[nac_pred_close]})])"
   ]
  },
  {
   "cell_type": "code",
   "execution_count": 52,
   "metadata": {},
   "outputs": [],
   "source": [
    "%matplotlib inline"
   ]
  },
  {
   "cell_type": "code",
   "execution_count": 54,
   "metadata": {},
   "outputs": [
    {
     "data": {
      "text/plain": [
       "<matplotlib.axes._subplots.AxesSubplot at 0x14ba2da6b38>"
      ]
     },
     "execution_count": 54,
     "metadata": {},
     "output_type": "execute_result"
    },
    {
     "data": {
      "image/png": "[encoded data removed]",
      "text/plain": [
       "<Figure size 432x288 with 1 Axes>"
      ]
     },
     "metadata": {},
     "output_type": "display_data"
    }
   ],
   "source": [
    "plot_data.plot(x='index', y='loss')"
   ]
  },
  {
   "cell_type": "code",
   "execution_count": 55,
   "metadata": {},
   "outputs": [
    {
     "data": {
      "text/plain": [
       "<matplotlib.axes._subplots.AxesSubplot at 0x14ba2e09a90>"
      ]
     },
     "execution_count": 55,
     "metadata": {},
     "output_type": "execute_result"
    },
    {
     "data": {
      "image/png": "[encoded data removed]",
      "text/plain": [
       "<Figure size 432x288 with 1 Axes>"
      ]
     },
     "metadata": {},
     "output_type": "display_data"
    }
   ],
   "source": [
    "plot_data.plot(x='index', y='pred_close')"
   ]
  },
  {
   "cell_type": "code",
   "execution_count": null,
   "metadata": {},
   "outputs": [],
   "source": []
  },
  {
   "cell_type": "markdown",
   "metadata": {},
   "source": [
    "## All other operations"
   ]
  },
  {
   "cell_type": "code",
   "execution_count": null,
   "metadata": {},
   "outputs": [],
   "source": []
  },
  {
   "cell_type": "code",
   "execution_count": null,
   "metadata": {},
   "outputs": [],
   "source": []
  }
 ],
 "metadata": {
  "kernelspec": {
   "display_name": "Python 3",
   "language": "python",
   "name": "python3"
  },
  "language_info": {
   "codemirror_mode": {
    "name": "ipython",
    "version": 3
   },
   "file_extension": ".py",
   "mimetype": "text/x-python",
   "name": "python",
   "nbconvert_exporter": "python",
   "pygments_lexer": "ipython3",
   "version": "3.6.5"
  }
 },
 "nbformat": 4,
 "nbformat_minor": 2
}
