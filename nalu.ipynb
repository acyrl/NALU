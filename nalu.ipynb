{
 "cells": [
  {
   "cell_type": "code",
   "execution_count": 1,
   "metadata": {},
   "outputs": [
    {
     "name": "stderr",
     "output_type": "stream",
     "text": [
      "C:\\Users\\acyrl\\Anaconda3\\lib\\site-packages\\h5py\\__init__.py:36: FutureWarning: Conversion of the second argument of issubdtype from `float` to `np.floating` is deprecated. In future, it will be treated as `np.float64 == np.dtype(float).type`.\n",
      "  from ._conv import register_converters as _register_converters\n",
      "Using TensorFlow backend.\n"
     ]
    }
   ],
   "source": [
    "import numpy as np\n",
    "import keras.backend as K\n",
    "import tensorflow as tf\n",
    "from keras.layers import *\n",
    "from keras.models import *"
   ]
  },
  {
   "cell_type": "code",
   "execution_count": 2,
   "metadata": {},
   "outputs": [],
   "source": [
    "class NALUcell(Layer):\n",
    "    \n",
    "    def __init__(self, units, kernel_initializer='glorot_uniform', name=None, **kwargs):\n",
    "        if 'input_shape' not in kwargs and 'input_dim' in kwargs:\n",
    "            kwargs['input_shape'] = (kwargs.pop('input_dim'),)\n",
    "        super(NALUcell, self).__init__(**kwargs)\n",
    "        \n",
    "        self.units = units\n",
    "        self.kernel_initializer = initializers.get(kernel_initializer)\n",
    "        self.input_spec = InputSpec(min_ndim=2)\n",
    "    \n",
    "    def build(self, input_shape):\n",
    "        assert len(input_shape) >= 2\n",
    "        input_dim = input_shape[-1]\n",
    "\n",
    "        self.W_hat = self.add_weight(shape=(input_dim, self.units),\n",
    "                                     initializer=self.kernel_initializer,\n",
    "                                     name='W_hat')\n",
    "        self.M_hat = self.add_weight(shape=(input_dim, self.units),\n",
    "                                     initializer=self.kernel_initializer,\n",
    "                                     name='M_hat')\n",
    "        self.built = True\n",
    "    \n",
    "    def call(self, inputs):\n",
    "        W = K.tanh(self.W_hat) * K.sigmoid(self.M_hat)\n",
    "        a = K.dot(inputs, W)\n",
    "\n",
    "        return a\n",
    "\n",
    "    def compute_output_shape(self, input_shape):\n",
    "        assert input_shape and len(input_shape) >= 2\n",
    "        assert input_shape[-1]\n",
    "        output_shape = list(input_shape)\n",
    "        output_shape[-1] = self.units\n",
    "        return tuple(output_shape)\n",
    "\n",
    "    def get_config(self):\n",
    "        config = {\n",
    "            'units': self.units,\n",
    "            'kernel_init': initializers.serialize(self.kernel_initializer)\n",
    "        }\n",
    "        base_config = super(NALUcell, self).get_config()\n",
    "        return dict(list(base_config.items()) + list(config.items()))\n"
   ]
  },
  {
   "cell_type": "code",
   "execution_count": null,
   "metadata": {},
   "outputs": [],
   "source": [
    "model.get_config()"
   ]
  },
  {
   "cell_type": "code",
   "execution_count": null,
   "metadata": {},
   "outputs": [],
   "source": [
    "X,Y = gd.gd_paper(size=1000)\n",
    "valX, valY = gd.gd_paper(size=50)\n"
   ]
  },
  {
   "cell_type": "code",
   "execution_count": null,
   "metadata": {},
   "outputs": [],
   "source": [
    "split = 45\n",
    "trX = np.random.normal(0, 0.5, (1000, 100))\n",
    "a = trX[:, :split].sum(1)\n",
    "b = trX[:, split:].sum(1)\n",
    "\n",
    "#x = keras.layers.InputSpec()\n",
    "\n",
    "x = keras.layers.Input((10,))\n",
    "y = NALUcell(1, kernel_initializer=initializers.Constant(10))(x)"
   ]
  },
  {
   "cell_type": "code",
   "execution_count": null,
   "metadata": {},
   "outputs": [],
   "source": [
    "model.fit(a, b, batch_size=20, epochs=20)"
   ]
  },
  {
   "cell_type": "code",
   "execution_count": 3,
   "metadata": {},
   "outputs": [
    {
     "name": "stdout",
     "output_type": "stream",
     "text": [
      "Epoch 1/20\n",
      "128/128 [==============================] - 1s 11ms/step - loss: 0.3656\n",
      "Epoch 2/20\n",
      "128/128 [==============================] - 0s 117us/step - loss: 0.3476\n",
      "Epoch 3/20\n",
      "128/128 [==============================] - 0s 93us/step - loss: 0.3297\n",
      "Epoch 4/20\n",
      "128/128 [==============================] - 0s 109us/step - loss: 0.3123\n",
      "Epoch 5/20\n",
      "128/128 [==============================] - 0s 117us/step - loss: 0.2961\n",
      "Epoch 6/20\n",
      "128/128 [==============================] - 0s 94us/step - loss: 0.2804\n",
      "Epoch 7/20\n",
      "128/128 [==============================] - 0s 102us/step - loss: 0.2661\n",
      "Epoch 8/20\n",
      "128/128 [==============================] - 0s 113us/step - loss: 0.2523\n",
      "Epoch 9/20\n",
      "128/128 [==============================] - 0s 109us/step - loss: 0.2389\n",
      "Epoch 10/20\n",
      "128/128 [==============================] - 0s 94us/step - loss: 0.2270\n",
      "Epoch 11/20\n",
      "128/128 [==============================] - 0s 109us/step - loss: 0.2157\n",
      "Epoch 12/20\n",
      "128/128 [==============================] - 0s 102us/step - loss: 0.2048\n",
      "Epoch 13/20\n",
      "128/128 [==============================] - 0s 102us/step - loss: 0.1948\n",
      "Epoch 14/20\n",
      "128/128 [==============================] - 0s 102us/step - loss: 0.1856\n",
      "Epoch 15/20\n",
      "128/128 [==============================] - 0s 94us/step - loss: 0.1771\n",
      "Epoch 16/20\n",
      "128/128 [==============================] - 0s 102us/step - loss: 0.1692\n",
      "Epoch 17/20\n",
      "128/128 [==============================] - 0s 125us/step - loss: 0.1621\n",
      "Epoch 18/20\n",
      "128/128 [==============================] - 0s 86us/step - loss: 0.1549\n",
      "Epoch 19/20\n",
      "128/128 [==============================] - 0s 109us/step - loss: 0.1485\n",
      "Epoch 20/20\n",
      "128/128 [==============================] - 0s 94us/step - loss: 0.1427\n"
     ]
    },
    {
     "data": {
      "text/plain": [
       "<keras.callbacks.History at 0x248cb174b00>"
      ]
     },
     "execution_count": 3,
     "metadata": {},
     "output_type": "execute_result"
    }
   ],
   "source": [
    "x = Input((10,))\n",
    "y = NALUcell(1, kernel_initializer=initializers.truncated_normal())(x)\n",
    "m = Model(x, y)\n",
    "m.compile(\"adam\", \"mse\")\n",
    "m.fit(np.random.rand(128, 10), np.random.rand(128, 1),batch_size=20, epochs=20, verbose=1)"
   ]
  }
 ],
 "metadata": {
  "kernelspec": {
   "display_name": "Python 3",
   "language": "python",
   "name": "python3"
  },
  "language_info": {
   "codemirror_mode": {
    "name": "ipython",
    "version": 3
   },
   "file_extension": ".py",
   "mimetype": "text/x-python",
   "name": "python",
   "nbconvert_exporter": "python",
   "pygments_lexer": "ipython3",
   "version": "3.6.5"
  }
 },
 "nbformat": 4,
 "nbformat_minor": 2
}
