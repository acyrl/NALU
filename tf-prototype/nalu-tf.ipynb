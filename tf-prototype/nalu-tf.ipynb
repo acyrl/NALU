{
 "cells": [
  {
   "cell_type": "code",
   "execution_count": 1,
   "metadata": {},
   "outputs": [
    {
     "name": "stderr",
     "output_type": "stream",
     "text": [
      "C:\\Users\\acyrl\\Anaconda3\\lib\\site-packages\\h5py\\__init__.py:36: FutureWarning: Conversion of the second argument of issubdtype from `float` to `np.floating` is deprecated. In future, it will be treated as `np.float64 == np.dtype(float).type`.\n",
      "  from ._conv import register_converters as _register_converters\n"
     ]
    }
   ],
   "source": [
    "import tensorflow as tf\n",
    "import numpy as np"
   ]
  },
  {
   "cell_type": "code",
   "execution_count": 5,
   "metadata": {},
   "outputs": [],
   "source": [
    "from nac import nac\n",
    "from nalu import nalu\n",
    "import GenData as gd"
   ]
  },
  {
   "cell_type": "code",
   "execution_count": 6,
   "metadata": {},
   "outputs": [],
   "source": [
    "def reset_graph(seed=42):\n",
    "    tf.reset_default_graph()\n",
    "    tf.set_random_seed(seed)\n",
    "    np.random.seed(seed)"
   ]
  },
  {
   "cell_type": "code",
   "execution_count": 7,
   "metadata": {},
   "outputs": [],
   "source": [
    "reset_graph()\n",
    "\n",
    "from datetime import datetime\n",
    "\n",
    "now = datetime.utcnow().strftime(\"%Y%m%d%H%M%S\")\n",
    "root_logdir = \"tf_logs\"\n",
    "logdir = \"{}/run-{}/\".format(root_logdir, now)\n",
    "\n"
   ]
  },
  {
   "cell_type": "code",
   "execution_count": 132,
   "metadata": {},
   "outputs": [],
   "source": [
    "epochs = 50\n",
    "learning_rate = 0.01\n",
    "batch_size = 20\n",
    "\n",
    "# generate dataset.\n",
    "X_data, Y_data = gd.gd_uniform(size=10000)\n",
    "\n",
    "# define placeholders and network\n",
    "X = tf.placeholder(tf.float32, shape=[None, 2]) # batch size here [bacth_size, 2] is a bad idea.\n",
    "Y_true = tf.placeholder(tf.float32, shape=[None, 1]) # batch size here [bacth_size, 2] is a bad idea.\n",
    "Y_pred = nalu(X, 1)\n",
    "\n",
    "# loss and train operations\n",
    "loss = tf.losses.absolute_difference(Y_pred, Y_true) # NALU uses mse\n",
    "#optimizer = tf.train.AdamOptimizer(learning_rate)\n",
    "optimizer = tf.train.RMSPropOptimizer(learning_rate)\n",
    "train_op = optimizer.minimize(loss)\n"
   ]
  },
  {
   "cell_type": "code",
   "execution_count": 133,
   "metadata": {},
   "outputs": [],
   "source": [
    "sess = tf.Session()\n",
    "init = tf.global_variables_initializer()\n",
    "sess.run(init)"
   ]
  },
  {
   "cell_type": "code",
   "execution_count": 134,
   "metadata": {},
   "outputs": [],
   "source": [
    "nac_summary = tf.summary.scalar('nac', loss)\n",
    "file_writer = tf.summary.FileWriter(logdir, tf.get_default_graph())"
   ]
  },
  {
   "cell_type": "code",
   "execution_count": 135,
   "metadata": {},
   "outputs": [
    {
     "name": "stdout",
     "output_type": "stream",
     "text": [
      "epoch 0, loss: 0.06339984387159348, accuracy: 0.0\n",
      "epoch 1, loss: 0.0007116853957995772, accuracy: 0.0047\n",
      "epoch 2, loss: 1.6903877622098662e-05, accuracy: 0.9604\n",
      "epoch 3, loss: 3.957748504035408e-06, accuracy: 0.9814\n",
      "epoch 4, loss: 2.300739197380608e-06, accuracy: 0.9862\n",
      "epoch 5, loss: 1.5974044345057337e-06, accuracy: 0.9893\n",
      "epoch 6, loss: 1.5854835737627582e-06, accuracy: 0.9911\n",
      "epoch 7, loss: 5.841255301675119e-07, accuracy: 0.9921\n",
      "epoch 8, loss: 5.841255301675119e-07, accuracy: 0.9933\n",
      "epoch 9, loss: 5.841255301675119e-07, accuracy: 0.9938\n",
      "epoch 10, loss: 5.841255301675119e-07, accuracy: 0.9942\n",
      "epoch 11, loss: 5.841255301675119e-07, accuracy: 0.9949\n",
      "epoch 12, loss: 5.841255301675119e-07, accuracy: 0.9951\n",
      "epoch 13, loss: 5.841255301675119e-07, accuracy: 0.9953\n",
      "epoch 14, loss: 6.556511067401516e-08, accuracy: 0.9956\n",
      "epoch 15, loss: 6.556511067401516e-08, accuracy: 0.9958\n",
      "epoch 16, loss: 6.556511067401516e-08, accuracy: 0.996\n",
      "epoch 17, loss: 6.556511067401516e-08, accuracy: 0.996\n",
      "epoch 18, loss: 6.556511067401516e-08, accuracy: 0.9963\n",
      "epoch 19, loss: 6.556511067401516e-08, accuracy: 0.9964\n",
      "epoch 20, loss: 6.556511067401516e-08, accuracy: 0.9966\n",
      "epoch 21, loss: 6.556511067401516e-08, accuracy: 0.9967\n",
      "epoch 22, loss: 6.556511067401516e-08, accuracy: 0.9972\n",
      "epoch 23, loss: 6.556511067401516e-08, accuracy: 0.9972\n",
      "epoch 24, loss: 6.556511067401516e-08, accuracy: 0.9972\n",
      "epoch 25, loss: 6.556511067401516e-08, accuracy: 0.9972\n",
      "epoch 26, loss: 6.556511067401516e-08, accuracy: 0.9972\n",
      "epoch 27, loss: 6.556511067401516e-08, accuracy: 0.9973\n",
      "epoch 28, loss: 6.556511067401516e-08, accuracy: 0.9973\n",
      "epoch 29, loss: 6.556511067401516e-08, accuracy: 0.9974\n",
      "epoch 30, loss: 6.556511067401516e-08, accuracy: 0.9974\n",
      "epoch 31, loss: 6.556511067401516e-08, accuracy: 0.9974\n",
      "epoch 32, loss: 6.556511067401516e-08, accuracy: 0.9974\n",
      "epoch 33, loss: 6.556511067401516e-08, accuracy: 0.9975\n",
      "epoch 34, loss: 6.556511067401516e-08, accuracy: 0.9975\n",
      "epoch 35, loss: 6.556511067401516e-08, accuracy: 0.9976\n",
      "epoch 36, loss: 6.556511067401516e-08, accuracy: 0.9976\n",
      "epoch 37, loss: 6.556511067401516e-08, accuracy: 0.9976\n",
      "epoch 38, loss: 6.556511067401516e-08, accuracy: 0.9976\n",
      "epoch 39, loss: 6.556511067401516e-08, accuracy: 0.9977\n",
      "epoch 40, loss: 6.556511067401516e-08, accuracy: 0.9977\n",
      "epoch 41, loss: 6.556511067401516e-08, accuracy: 0.9977\n",
      "epoch 42, loss: 6.556511067401516e-08, accuracy: 0.9978\n",
      "epoch 43, loss: 6.556511067401516e-08, accuracy: 0.9978\n",
      "epoch 44, loss: 6.556511067401516e-08, accuracy: 0.9978\n",
      "epoch 45, loss: 6.556511067401516e-08, accuracy: 0.9978\n",
      "epoch 46, loss: 6.556511067401516e-08, accuracy: 0.9978\n",
      "epoch 47, loss: 6.556511067401516e-08, accuracy: 0.9978\n",
      "epoch 48, loss: 6.556511067401516e-08, accuracy: 0.9978\n",
      "epoch 49, loss: 6.556511067401516e-08, accuracy: 0.9978\n"
     ]
    }
   ],
   "source": [
    "for ep in range(epochs):\n",
    "    \n",
    "    i = 0\n",
    "    gts = 0\n",
    "        \n",
    "    while i < len(X_data):\n",
    "        xs, ys = X_data[i:i+batch_size], Y_data[i:i+batch_size]\n",
    "        _, ys_pred, l = sess.run([train_op, Y_pred, loss], feed_dict={X: xs, Y_true: ys})\n",
    "\n",
    "            # calculate number of correct predictions from batch\n",
    "        gts += np.sum(np.isclose(ys, ys_pred, atol=1e-4, rtol=1e-4)) \n",
    "        \n",
    "        # Log it for tensorBoard.\n",
    "        summary_str = nac_summary.eval(session=sess, feed_dict={X: xs, Y_true: ys})\n",
    "        step = ep *  len(X_data) + i\n",
    "        file_writer.add_summary(summary_str, step)\n",
    "        \n",
    "        i += batch_size\n",
    "        \n",
    "        \n",
    "    acc = gts/len(Y_data)\n",
    "    print('epoch {2}, loss: {0}, accuracy: {1}'.format(l, acc, ep))"
   ]
  },
  {
   "cell_type": "code",
   "execution_count": null,
   "metadata": {},
   "outputs": [],
   "source": [
    "saver = tf.train.Saver()"
   ]
  },
  {
   "cell_type": "code",
   "execution_count": null,
   "metadata": {},
   "outputs": [],
   "source": [
    "save_path = saver.save(sess, \"./model.ckpt\")"
   ]
  },
  {
   "cell_type": "code",
   "execution_count": 143,
   "metadata": {},
   "outputs": [],
   "source": [
    "file_writer.close()"
   ]
  },
  {
   "cell_type": "code",
   "execution_count": null,
   "metadata": {},
   "outputs": [],
   "source": [
    "reset_graph()"
   ]
  },
  {
   "cell_type": "code",
   "execution_count": 137,
   "metadata": {},
   "outputs": [],
   "source": [
    "Xtest, Ytest = gen_data_unif.generate_dataset(_min=15, _max=25, size=10000)"
   ]
  },
  {
   "cell_type": "code",
   "execution_count": 138,
   "metadata": {},
   "outputs": [],
   "source": [
    "#loss2 =tf.less(tf.abs(Y_pred - Y_true), 1e-3)\n",
    "#loss3 = tf.metrics.mean_absolute_error(Y_true, Y_pred) # NALU uses mse\n",
    "_, _, l = sess.run([train_op, Y_pred, loss], feed_dict={X: Xtest, Y_true: Ytest})\n",
    "\n",
    "# Metrics has to take into account the units of numbers. As in, percetange off maybe?"
   ]
  },
  {
   "cell_type": "code",
   "execution_count": 139,
   "metadata": {},
   "outputs": [
    {
     "data": {
      "text/plain": [
       "8.955002e-07"
      ]
     },
     "execution_count": 139,
     "metadata": {},
     "output_type": "execute_result"
    }
   ],
   "source": [
    "l"
   ]
  },
  {
   "cell_type": "code",
   "execution_count": 140,
   "metadata": {},
   "outputs": [],
   "source": [
    "import pandas as pd\n",
    "plot_data = pd.DataFrame(data={'index': [], 'error':[]})"
   ]
  },
  {
   "cell_type": "code",
   "execution_count": 141,
   "metadata": {},
   "outputs": [],
   "source": [
    "for i in range(20, 5000):\n",
    "    Xtest, Ytest = gen_data_unif.generate_dataset(_min=i*10, _max=(i+1)*10-1, size=500)\n",
    "    _, _, l = sess.run([train_op, Y_pred, loss], feed_dict={X: Xtest, Y_true: Ytest})\n",
    "    plot_data = pd.concat([plot_data, pd.DataFrame({'index':[i*10], 'error':[l]})])\n",
    "    "
   ]
  },
  {
   "cell_type": "code",
   "execution_count": 126,
   "metadata": {},
   "outputs": [
    {
     "data": {
      "text/plain": [
       "<matplotlib.axes._subplots.AxesSubplot at 0x2221a3e7fd0>"
      ]
     },
     "execution_count": 126,
     "metadata": {},
     "output_type": "execute_result"
    },
    {
     "data": {
      "image/png": "[encoded data removed]",
      "text/plain": [
       "<Figure size 432x288 with 1 Axes>"
      ]
     },
     "metadata": {},
     "output_type": "display_data"
    }
   ],
   "source": [
    "plot_data.plot(x='index', y='error')"
   ]
  },
  {
   "cell_type": "code",
   "execution_count": 142,
   "metadata": {},
   "outputs": [
    {
     "data": {
      "text/plain": [
       "<matplotlib.axes._subplots.AxesSubplot at 0x2221a7a80f0>"
      ]
     },
     "execution_count": 142,
     "metadata": {},
     "output_type": "execute_result"
    },
    {
     "data": {
      "image/png": "[encoded data removed]",
      "text/plain": [
       "<Figure size 432x288 with 1 Axes>"
      ]
     },
     "metadata": {},
     "output_type": "display_data"
    }
   ],
   "source": [
    "plot_data.plot(x='index', y='error')"
   ]
  }
 ],
 "metadata": {
  "kernelspec": {
   "display_name": "Python 3",
   "language": "python",
   "name": "python3"
  },
  "language_info": {
   "codemirror_mode": {
    "name": "ipython",
    "version": 3
   },
   "file_extension": ".py",
   "mimetype": "text/x-python",
   "name": "python",
   "nbconvert_exporter": "python",
   "pygments_lexer": "ipython3",
   "version": "3.6.5"
  }
 },
 "nbformat": 4,
 "nbformat_minor": 2
}
