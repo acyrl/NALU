{
 "cells": [
  {
   "cell_type": "code",
   "execution_count": 4,
   "metadata": {},
   "outputs": [
    {
     "name": "stdout",
     "output_type": "stream",
     "text": [
      "Epoch 1/2\n",
      "128/128 [==============================] - 0s 1ms/step - loss: 0.1905\n",
      "Epoch 2/2\n",
      "128/128 [==============================] - 0s 109us/step - loss: 0.1879\n"
     ]
    }
   ],
   "source": [
    "import numpy as np\n",
    "import keras.backend as K\n",
    "import tensorflow as tf\n",
    "from keras.layers import *\n",
    "from keras.models import *\n",
    "\n",
    "class NALU(Layer):\n",
    "    def __init__(self, units, kernel_initializer='glorot_uniform',\n",
    "                 **kwargs):\n",
    "        if 'input_shape' not in kwargs and 'input_dim' in kwargs:\n",
    "            kwargs['input_shape'] = (kwargs.pop('input_dim'),)\n",
    "        super(NALU, self).__init__(**kwargs)\n",
    "        self.units = units\n",
    "        self.kernel_initializer = initializers.get(kernel_initializer)\n",
    "        self.input_spec = InputSpec(min_ndim=2)\n",
    "        self.supports_masking = True\n",
    "\n",
    "    def build(self, input_shape):\n",
    "        assert len(input_shape) >= 2\n",
    "        input_dim = input_shape[-1]\n",
    "\n",
    "        self.W_hat = self.add_weight(shape=(input_dim, self.units),\n",
    "                                     initializer=self.kernel_initializer,\n",
    "                                     name='W_hat')\n",
    "        self.M_hat = self.add_weight(shape=(input_dim, self.units),\n",
    "                                     initializer=self.kernel_initializer,\n",
    "                                     name='M_hat')\n",
    "        self.G = self.add_weight(shape=(input_dim, self.units),\n",
    "                                 initializer=self.kernel_initializer,\n",
    "                                 name='G')\n",
    "        self.input_spec = InputSpec(min_ndim=2, axes={-1: input_dim})\n",
    "        self.built = True\n",
    "\n",
    "    def call(self, inputs):\n",
    "        W = K.tanh(self.W_hat) * K.sigmoid(self.M_hat) #NAC\n",
    "        m = K.exp(K.dot(K.log(K.abs(inputs) + 1e-7), W)) #NALU\n",
    "        g = K.sigmoid(K.dot(inputs, self.G)) #NALU\n",
    "        a = K.dot(inputs, W) #NAC\n",
    "        y = g * a + (1 - g) * m #NALU\n",
    "        return y\n",
    "\n",
    "    def compute_output_shape(self, input_shape):\n",
    "        assert input_shape and len(input_shape) >= 2\n",
    "        assert input_shape[-1]\n",
    "        output_shape = list(input_shape)\n",
    "        output_shape[-1] = self.units\n",
    "        return tuple(output_shape)\n",
    "\n",
    "    def get_config(self):\n",
    "        config = {\n",
    "            'units': self.units,\n",
    "            'kernel_initializer': initializers.serialize(self.kernel_initializer)\n",
    "        }\n",
    "        base_config = super(Dense, self).get_config()\n",
    "        return dict(list(base_config.items()) + list(config.items()))\n",
    "\n",
    "if __name__ == \"__main__\":\n",
    "    x = Input((10,))\n",
    "    y = NALU(1)(x)\n",
    "    m = Model(x, y)\n",
    "    m.compile(\"adam\", \"mse\")\n",
    "    m.fit(np.random.rand(128, 10), np.random.rand(128, 1),batch_size=32, epochs=2, verbose=1)"
   ]
  }
 ],
 "metadata": {
  "kernelspec": {
   "display_name": "Python 3",
   "language": "python",
   "name": "python3"
  },
  "language_info": {
   "codemirror_mode": {
    "name": "ipython",
    "version": 3
   },
   "file_extension": ".py",
   "mimetype": "text/x-python",
   "name": "python",
   "nbconvert_exporter": "python",
   "pygments_lexer": "ipython3",
   "version": "3.6.5"
  }
 },
 "nbformat": 4,
 "nbformat_minor": 2
}
