{
 "cells": [
  {
   "cell_type": "code",
   "execution_count": 15,
   "metadata": {},
   "outputs": [
    {
     "name": "stderr",
     "output_type": "stream",
     "text": [
      "C:\\Users\\acyrl\\Anaconda3\\lib\\site-packages\\h5py\\__init__.py:36: FutureWarning: Conversion of the second argument of issubdtype from `float` to `np.floating` is deprecated. In future, it will be treated as `np.float64 == np.dtype(float).type`.\n",
      "  from ._conv import register_converters as _register_converters\n",
      "Using TensorFlow backend.\n"
     ]
    }
   ],
   "source": [
    "import numpy as np\n",
    "import keras\n",
    "import keras.backend as K\n",
    "import tensorflow as tf\n",
    "from keras.layers import *\n",
    "from keras.models import *"
   ]
  },
  {
   "cell_type": "markdown",
   "metadata": {},
   "source": [
    "Guide to [writing your own keras layer](https://keras.io/layers/writing-your-own-keras-layers/)."
   ]
  },
  {
   "cell_type": "code",
   "execution_count": 38,
   "metadata": {},
   "outputs": [],
   "source": [
    "class NAC(Layer):\n",
    "    \n",
    "    def __init__(self,\n",
    "                 units,\n",
    "                 W_hat_initializer='glorot_uniform', # need to change default initializer.\n",
    "                 M_hat_initializer='glorot_uniform', # need to change default initializer.\n",
    "                 name=None,\n",
    "                 **kwargs\n",
    "                ):\n",
    "        \n",
    "        super(NAC, self).__init__(**kwargs)\n",
    "        \n",
    "        self.units = units\n",
    "        self.W_hat_initializer = initializers.get(W_hat_initializer)\n",
    "        self.M_hat_initializer = initializers.get(M_hat_initializer)\n",
    "    \n",
    "    def build(self, input_shape):\n",
    "        assert len(input_shape) >= 2\n",
    "        input_dim = input_shape[-1]\n",
    "\n",
    "        self.W_hat = self.add_weight(shape=(input_dim, self.units),\n",
    "                                     initializer=self.W_hat_initializer,\n",
    "                                     name='W_hat')\n",
    "        self.M_hat = self.add_weight(shape=(input_dim, self.units),\n",
    "                                     initializer=self.M_hat_initializer,\n",
    "                                     name='M_hat')\n",
    "        self.built = True\n",
    "    \n",
    "    def call(self, inputs):\n",
    "        W = K.tanh(self.W_hat) * K.sigmoid(self.M_hat)\n",
    "        return K.dot(inputs, W)\n",
    "\n",
    "    def compute_output_shape(self, input_shape):\n",
    "        assert input_shape and len(input_shape) >= 2\n",
    "        assert input_shape[-1]\n",
    "        output_shape = list(input_shape)\n",
    "        output_shape[-1] = self.units\n",
    "        return tuple(output_shape)\n",
    "\n",
    "    def get_config(self):\n",
    "        config = {\n",
    "            'units': self.units,\n",
    "            'W_hat_initializer': initializers.serialize(self.W_hat_initializer),\n",
    "            'M_hat_initializer': initializers.serialize(self.M_hat_initializer)\n",
    "        }\n",
    "        base_config = super(NAC, self).get_config()\n",
    "        return dict(list(base_config.items()) + list(config.items()))"
   ]
  },
  {
   "cell_type": "code",
   "execution_count": 23,
   "metadata": {},
   "outputs": [
    {
     "name": "stdout",
     "output_type": "stream",
     "text": [
      "[ 66.44574769 140.28945204] [206.73519973]\n"
     ]
    }
   ],
   "source": [
    "import GenData as gd\n",
    "X,Y = gd.gd_paper(size=10000)\n",
    "valX, valY = gd.gd_paper(size=50)"
   ]
  },
  {
   "cell_type": "code",
   "execution_count": null,
   "metadata": {},
   "outputs": [],
   "source": [
    "split = 45\n",
    "trX = np.random.normal(0, 0.5, (1000, 100))\n",
    "a = trX[:, :split].sum(1)\n",
    "b = trX[:, split:].sum(1)\n",
    "\n",
    "#x = keras.layers.InputSpec()\n",
    "\n",
    "x = keras.layers.Input((10,))\n",
    "y = NALUcell(1, kernel_initializer=initializers.Constant(10))(x)"
   ]
  },
  {
   "cell_type": "code",
   "execution_count": null,
   "metadata": {},
   "outputs": [],
   "source": [
    "model.fit(a, b, batch_size=20, epochs=20)"
   ]
  },
  {
   "cell_type": "code",
   "execution_count": 17,
   "metadata": {},
   "outputs": [
    {
     "data": {
      "text/plain": [
       "<tf.Tensor 'input_6:0' shape=(?, 10) dtype=float32>"
      ]
     },
     "execution_count": 17,
     "metadata": {},
     "output_type": "execute_result"
    }
   ],
   "source": [
    "x"
   ]
  },
  {
   "cell_type": "code",
   "execution_count": 48,
   "metadata": {},
   "outputs": [
    {
     "name": "stdout",
     "output_type": "stream",
     "text": [
      "(128, 2) (128, 1)\n"
     ]
    },
    {
     "data": {
      "text/plain": [
       "(128, 10)"
      ]
     },
     "execution_count": 48,
     "metadata": {},
     "output_type": "execute_result"
    }
   ],
   "source": [
    "print(X.shape, Y.shape)\n",
    "np.random.rand(128, 10).shape"
   ]
  },
  {
   "cell_type": "code",
   "execution_count": 49,
   "metadata": {},
   "outputs": [
    {
     "name": "stdout",
     "output_type": "stream",
     "text": [
      "Epoch 1/1\n",
      "10000/10000 [==============================] - 1s 95us/step - loss: 5198.4618 - acc: 1.0000e-04\n"
     ]
    },
    {
     "data": {
      "text/plain": [
       "<keras.callbacks.History at 0x2259bb5c358>"
      ]
     },
     "execution_count": 49,
     "metadata": {},
     "output_type": "execute_result"
    }
   ],
   "source": [
    "x = Input((1,)) # n is the dimension of the data, (n, N)\n",
    "y = NAC(1, W_hat_initializer=initializers.truncated_normal())(x) # number of units, but let's test\n",
    "m = Model(x, y)\n",
    "m.compile(keras.optimizers.RMSprop(lr=0.01), \"mse\", metrics=['accuracy'])\n",
    "m.fit(Y, Y, batch_size=20, epochs=1, verbose=1)"
   ]
  },
  {
   "cell_type": "code",
   "execution_count": 69,
   "metadata": {},
   "outputs": [
    {
     "name": "stdout",
     "output_type": "stream",
     "text": [
      "[[ 37.91400752   8.57856319]\n",
      " [ 91.05914504 100.00486347]\n",
      " [ 65.71871739  13.33499236]\n",
      " [ 35.96730318  91.18802709]\n",
      " [ 58.76270934  24.79102971]\n",
      " [167.62736609  10.67597158]\n",
      " [ 19.18224718  74.13619536]\n",
      " [100.13142436  40.00189752]\n",
      " [ 49.19071227 106.76310138]]\n"
     ]
    },
    {
     "data": {
      "text/plain": [
       "array([[ 46.40562 ],\n",
       "       [190.7091  ],\n",
       "       [ 78.90582 ],\n",
       "       [126.920074],\n",
       "       [ 83.39783 ],\n",
       "       [177.96904 ],\n",
       "       [ 93.14606 ],\n",
       "       [139.87178 ],\n",
       "       [155.66507 ]], dtype=float32)"
      ]
     },
     "execution_count": 69,
     "metadata": {},
     "output_type": "execute_result"
    }
   ],
   "source": [
    "t = np.array([2,2])\n",
    "print(X[1:10])\n",
    "m.predict(X[1:10])\n"
   ]
  },
  {
   "cell_type": "code",
   "execution_count": 41,
   "metadata": {},
   "outputs": [],
   "source": [
    "Xtest, Ytest = gd.gd_paper(lower_bound=10, upper_bound=50, size=100)"
   ]
  },
  {
   "cell_type": "code",
   "execution_count": 52,
   "metadata": {},
   "outputs": [],
   "source": [
    "class NALU(Layer):\n",
    "    \n",
    "    def __init__(self,\n",
    "                 units,\n",
    "                 W_hat_initializer = 'glorot_uniform',\n",
    "                 M_hat_initializer = 'glorot_uniform',\n",
    "                 G_initializer = 'glorot_uniform',\n",
    "                 epsilon=1e-7,\n",
    "                 name=None,\n",
    "                 **kwargs\n",
    "                ):\n",
    "        \n",
    "        super(NALU, self).__init__(**kwargs)\n",
    "        \n",
    "        self.units = units\n",
    "        self.W_hat_initializer = initializers.get(W_hat_initializer)\n",
    "        self.M_hat_initializer = initializers.get(M_hat_initializer)\n",
    "        self.G_initializer = initializers.get(G_initializer)\n",
    "        self.epsilon = epsilon\n",
    "    \n",
    "    def build(self, input_shape):\n",
    "        assert len(input_shape) >= 2\n",
    "        input_dim = input_shape[-1]\n",
    "\n",
    "        self.W_hat = self.add_weight(shape=(input_dim, self.units),\n",
    "                                     initializer=self.W_hat_initializer,\n",
    "                                     name='W_hat')\n",
    "        self.M_hat = self.add_weight(shape=(input_dim, self.units),\n",
    "                                     initializer=self.M_hat_initializer,\n",
    "                                     name='M_hat')\n",
    "        self.G = self.add_weight(shape=(input_dim, self.units),\n",
    "                             initializer=self.G_initializer,\n",
    "                             name='G')\n",
    "        self.built = True\n",
    "    \n",
    "    def call(self, inputs):\n",
    "        W = K.tanh(self.W_hat) * K.sigmoid(self.M_hat)\n",
    "        a = K.dot(inputs, W)\n",
    "        m = K.exp(K.dot(K.log(K.abs(inputs) + self.epsilon), W))\n",
    "        g = K.sigmoid(K.dot(x, self.G))\n",
    "        y = g*a + (1-g)*m\n",
    "        \n",
    "        return y\n",
    "\n",
    "    def compute_output_shape(self, input_shape):\n",
    "        assert input_shape and len(input_shape) >= 2\n",
    "        assert input_shape[-1]\n",
    "        output_shape = list(input_shape)\n",
    "        output_shape[-1] = self.units\n",
    "        return tuple(output_shape)\n",
    "\n",
    "    def get_config(self):\n",
    "        config = {\n",
    "            'units': self.units,\n",
    "            'W_hat_initializer': initializers.serialize(self.W_hat_initializer),\n",
    "            'M_hat_initializer': initializers.serialize(self.M_hat_initializer),\n",
    "            'G_initializer': initializers.serialize(self.M_hat_initializer),\n",
    "            'epsilon': self.epsilon,\n",
    "        }\n",
    "        base_config = super(NALU, self).get_config()\n",
    "        return dict(list(base_config.items()) + list(config.items()))"
   ]
  },
  {
   "cell_type": "code",
   "execution_count": 53,
   "metadata": {},
   "outputs": [
    {
     "name": "stdout",
     "output_type": "stream",
     "text": [
      "Epoch 1/5\n",
      "10000/10000 [==============================] - 1s 115us/step - loss: 30331.9581 - acc: 0.0000e+00\n",
      "Epoch 2/5\n",
      "10000/10000 [==============================] - 1s 92us/step - loss: 1351.3113 - acc: 1.0000e-04\n",
      "Epoch 3/5\n",
      "10000/10000 [==============================] - 1s 92us/step - loss: 0.0559 - acc: 1.0000e-04\n",
      "Epoch 4/5\n",
      "10000/10000 [==============================] - 1s 94us/step - loss: 1.6378e-05 - acc: 1.0000e-04\n",
      "Epoch 5/5\n",
      "10000/10000 [==============================] - 1s 89us/step - loss: 1.7990e-08 - acc: 1.0000e-04\n"
     ]
    },
    {
     "data": {
      "text/plain": [
       "<keras.callbacks.History at 0x2259cec2438>"
      ]
     },
     "execution_count": 53,
     "metadata": {},
     "output_type": "execute_result"
    }
   ],
   "source": [
    "x = Input((1,)) # n is the dimension of the data, (n, N)\n",
    "y = NALU(1)(x) # number of units, but let's test\n",
    "m = Model(x, y)\n",
    "m.compile(keras.optimizers.RMSprop(lr=0.01), \"mse\", metrics=['accuracy'])\n",
    "m.fit(Y, Y, batch_size=20, epochs=1, verbose=1)"
   ]
  }
 ],
 "metadata": {
  "kernelspec": {
   "display_name": "Python 3",
   "language": "python",
   "name": "python3"
  },
  "language_info": {
   "codemirror_mode": {
    "name": "ipython",
    "version": 3
   },
   "file_extension": ".py",
   "mimetype": "text/x-python",
   "name": "python",
   "nbconvert_exporter": "python",
   "pygments_lexer": "ipython3",
   "version": "3.6.5"
  }
 },
 "nbformat": 4,
 "nbformat_minor": 2
}
